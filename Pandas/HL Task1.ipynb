{
 "cells": [
  {
   "cell_type": "code",
   "execution_count": 9,
   "metadata": {},
   "outputs": [
    {
     "name": "stdout",
     "output_type": "stream",
     "text": [
      "                      Country Age Exposure Start  Gender Recovered\n",
      "CH                      China  65     29/12/2019    male         0\n",
      "P                    Portugal  78     03/02/2020  female         1\n",
      "UK             United Kingdom  67     04/03/2020  female         1\n",
      "IND                     India  82     06/07/2020    male         0\n",
      "USA  United States of America  59     05/06/2020  female         1\n",
      "E                       Spain  88     23/03/2020    male         0\n",
      "F                      France  66     01/03/2020    male         0\n"
     ]
    }
   ],
   "source": [
    "# Import pandas\n",
    "import pandas as pd\n",
    "\n",
    "# Create data\n",
    "inventory = {\"Country\": [\"China\",\"Portugal\",\"United Kingdom\",\"India\", \"United States of America\", \n",
    "                         \"Spain\", \"France\"],\n",
    "             \"Age\": [\"65\", \"78\", \"67\", \"82\",\"59\",\"88\",\"66\"],\n",
    "            \"Exposure Start\": [\"29/12/2019\", \"03/02/2020\", \"04/03/2020\", \"06/07/2020\",\"05/06/2020\",\n",
    "                               \"23/03/2020\",\"01/03/2020\"],\n",
    "            \"Gender\":[\"male\", \"female\", \"female\", \"male\",\"female\",\"male\",\"male\"],\n",
    "            \"Recovered\": [\"0\", \"1\", \"1\", \"0\",\"1\",\"0\",\"0\"]}\n",
    "\n",
    "# Create variable\n",
    "Covidframe = pd.DataFrame(inventory)\n",
    "\n",
    "# Create index\n",
    "Covidframe.index = [\"CH\",\"P\",\"UK\",\"IND\",\"USA\",\"E\",\"F\"]\n",
    "\n",
    "# Print variable\n",
    "print(Covidframe)"
   ]
  },
  {
   "cell_type": "code",
   "execution_count": null,
   "metadata": {},
   "outputs": [],
   "source": []
  },
  {
   "cell_type": "code",
   "execution_count": null,
   "metadata": {},
   "outputs": [],
   "source": []
  }
 ],
 "metadata": {
  "kernelspec": {
   "display_name": "Python 3",
   "language": "python",
   "name": "python3"
  },
  "language_info": {
   "codemirror_mode": {
    "name": "ipython",
    "version": 3
   },
   "file_extension": ".py",
   "mimetype": "text/x-python",
   "name": "python",
   "nbconvert_exporter": "python",
   "pygments_lexer": "ipython3",
   "version": "3.7.6"
  }
 },
 "nbformat": 4,
 "nbformat_minor": 4
}
